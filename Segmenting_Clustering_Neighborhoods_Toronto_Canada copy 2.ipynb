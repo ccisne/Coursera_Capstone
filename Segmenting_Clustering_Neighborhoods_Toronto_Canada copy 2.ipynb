{
    "cells": [
        {
            "cell_type": "markdown",
            "metadata": {
                "collapsed": true
            },
            "source": "# Lab Segmenting and Clustering Neighborhoods in the city of Toronto, Canada\n## by Christian Cisne"
        },
        {
            "cell_type": "markdown",
            "metadata": {},
            "source": "### Import dataset"
        },
        {
            "cell_type": "code",
            "execution_count": 1,
            "metadata": {},
            "outputs": [],
            "source": "import pandas as pd"
        },
        {
            "cell_type": "markdown",
            "metadata": {},
            "source": "### Load dataset"
        },
        {
            "cell_type": "code",
            "execution_count": 2,
            "metadata": {},
            "outputs": [],
            "source": "url = \"https://en.wikipedia.org/wiki/List_of_postal_codes_of_Canada:_M\"\nrawdata = pd.read_html(url)"
        },
        {
            "cell_type": "code",
            "execution_count": 3,
            "metadata": {},
            "outputs": [
                {
                    "data": {
                        "text/html": "<div>\n<style scoped>\n    .dataframe tbody tr th:only-of-type {\n        vertical-align: middle;\n    }\n\n    .dataframe tbody tr th {\n        vertical-align: top;\n    }\n\n    .dataframe thead th {\n        text-align: right;\n    }\n</style>\n<table border=\"1\" class=\"dataframe\">\n  <thead>\n    <tr style=\"text-align: right;\">\n      <th></th>\n      <th>Postal Code</th>\n      <th>Borough</th>\n      <th>Neighborhood</th>\n    </tr>\n  </thead>\n  <tbody>\n    <tr>\n      <th>0</th>\n      <td>M1A</td>\n      <td>Not assigned</td>\n      <td>NaN</td>\n    </tr>\n    <tr>\n      <th>1</th>\n      <td>M2A</td>\n      <td>Not assigned</td>\n      <td>NaN</td>\n    </tr>\n    <tr>\n      <th>2</th>\n      <td>M3A</td>\n      <td>North York</td>\n      <td>Parkwoods</td>\n    </tr>\n    <tr>\n      <th>3</th>\n      <td>M4A</td>\n      <td>North York</td>\n      <td>Victoria Village</td>\n    </tr>\n    <tr>\n      <th>4</th>\n      <td>M5A</td>\n      <td>Downtown Toronto</td>\n      <td>Regent Park, Harbourfront</td>\n    </tr>\n  </tbody>\n</table>\n</div>",
                        "text/plain": "  Postal Code           Borough               Neighborhood\n0         M1A      Not assigned                        NaN\n1         M2A      Not assigned                        NaN\n2         M3A        North York                  Parkwoods\n3         M4A        North York           Victoria Village\n4         M5A  Downtown Toronto  Regent Park, Harbourfront"
                    },
                    "execution_count": 3,
                    "metadata": {},
                    "output_type": "execute_result"
                }
            ],
            "source": "rawdata[0].head()"
        },
        {
            "cell_type": "markdown",
            "metadata": {},
            "source": "## Clean dataset"
        },
        {
            "cell_type": "code",
            "execution_count": 4,
            "metadata": {},
            "outputs": [
                {
                    "data": {
                        "text/html": "<div>\n<style scoped>\n    .dataframe tbody tr th:only-of-type {\n        vertical-align: middle;\n    }\n\n    .dataframe tbody tr th {\n        vertical-align: top;\n    }\n\n    .dataframe thead th {\n        text-align: right;\n    }\n</style>\n<table border=\"1\" class=\"dataframe\">\n  <thead>\n    <tr style=\"text-align: right;\">\n      <th></th>\n      <th>Postal Code</th>\n      <th>Borough</th>\n      <th>Neighborhood</th>\n    </tr>\n  </thead>\n  <tbody>\n    <tr>\n      <th>0</th>\n      <td>M3A</td>\n      <td>North York</td>\n      <td>Parkwoods</td>\n    </tr>\n    <tr>\n      <th>1</th>\n      <td>M4A</td>\n      <td>North York</td>\n      <td>Victoria Village</td>\n    </tr>\n    <tr>\n      <th>2</th>\n      <td>M5A</td>\n      <td>Downtown Toronto</td>\n      <td>Regent Park, Harbourfront</td>\n    </tr>\n    <tr>\n      <th>3</th>\n      <td>M6A</td>\n      <td>North York</td>\n      <td>Lawrence Manor, Lawrence Heights</td>\n    </tr>\n    <tr>\n      <th>4</th>\n      <td>M7A</td>\n      <td>Downtown Toronto</td>\n      <td>Queen's Park, Ontario Provincial Government</td>\n    </tr>\n  </tbody>\n</table>\n</div>",
                        "text/plain": "  Postal Code           Borough                                 Neighborhood\n0         M3A        North York                                    Parkwoods\n1         M4A        North York                             Victoria Village\n2         M5A  Downtown Toronto                    Regent Park, Harbourfront\n3         M6A        North York             Lawrence Manor, Lawrence Heights\n4         M7A  Downtown Toronto  Queen's Park, Ontario Provincial Government"
                    },
                    "execution_count": 4,
                    "metadata": {},
                    "output_type": "execute_result"
                }
            ],
            "source": "#Create a copy of raw dataset\ndf_toronto = rawdata[0].copy()\n\n#Ignore cells with a borough that is Not assigned.\ndf_toronto.drop(df_toronto.loc[df_toronto['Borough']==\"Not assigned\"].index, inplace=True)\n\n#If a cell has a borough but a Not assigned neighborhood, then the neighborhood will be the same as the borough.\ndf_toronto['Neighborhood'].replace(to_replace=['Not assigned'], value=[df_toronto['Borough']], inplace=True)\n\n#Reset dataset index\ndf_toronto.reset_index(inplace=True)\ndf_toronto.drop(['index'], axis=1, inplace=True)\n\ndf_toronto.head()"
        },
        {
            "cell_type": "code",
            "execution_count": 5,
            "metadata": {},
            "outputs": [
                {
                    "data": {
                        "text/plain": "(103, 3)"
                    },
                    "execution_count": 5,
                    "metadata": {},
                    "output_type": "execute_result"
                }
            ],
            "source": "df_toronto.shape"
        },
        {
            "cell_type": "markdown",
            "metadata": {},
            "source": "### Get latitude and longitude"
        },
        {
            "cell_type": "code",
            "execution_count": 6,
            "metadata": {},
            "outputs": [
                {
                    "name": "stdout",
                    "output_type": "stream",
                    "text": "Requirement already satisfied: geocoder in /opt/conda/envs/Python36/lib/python3.6/site-packages (1.38.1)\nRequirement already satisfied: requests in /opt/conda/envs/Python36/lib/python3.6/site-packages (from geocoder) (2.21.0)\nRequirement already satisfied: click in /opt/conda/envs/Python36/lib/python3.6/site-packages (from geocoder) (7.0)\nRequirement already satisfied: ratelim in /opt/conda/envs/Python36/lib/python3.6/site-packages (from geocoder) (0.1.6)\nRequirement already satisfied: future in /opt/conda/envs/Python36/lib/python3.6/site-packages (from geocoder) (0.17.1)\nRequirement already satisfied: six in /opt/conda/envs/Python36/lib/python3.6/site-packages (from geocoder) (1.12.0)\nRequirement already satisfied: idna<2.9,>=2.5 in /opt/conda/envs/Python36/lib/python3.6/site-packages (from requests->geocoder) (2.8)\nRequirement already satisfied: certifi>=2017.4.17 in /opt/conda/envs/Python36/lib/python3.6/site-packages (from requests->geocoder) (2020.4.5.1)\nRequirement already satisfied: chardet<3.1.0,>=3.0.2 in /opt/conda/envs/Python36/lib/python3.6/site-packages (from requests->geocoder) (3.0.4)\nRequirement already satisfied: urllib3<1.25,>=1.21.1 in /opt/conda/envs/Python36/lib/python3.6/site-packages (from requests->geocoder) (1.24.1)\nRequirement already satisfied: decorator in /opt/conda/envs/Python36/lib/python3.6/site-packages (from ratelim->geocoder) (4.3.2)\n"
                }
            ],
            "source": "!pip install geocoder"
        },
        {
            "cell_type": "code",
            "execution_count": 7,
            "metadata": {},
            "outputs": [],
            "source": "import geocoder # import geocoder"
        },
        {
            "cell_type": "code",
            "execution_count": 8,
            "metadata": {},
            "outputs": [],
            "source": "#Example easy not work. This library not work.\ng = geocoder.google('Mountain View, CA')\ng.latlng"
        },
        {
            "cell_type": "markdown",
            "metadata": {},
            "source": "### Load Geospatial_Coordinates.csv"
        },
        {
            "cell_type": "code",
            "execution_count": 9,
            "metadata": {},
            "outputs": [
                {
                    "name": "stdout",
                    "output_type": "stream",
                    "text": "--2020-05-13 02:03:56--  https://cocl.us/Geospatial_data\nResolving cocl.us (cocl.us)... 169.48.113.194, 158.85.108.86, 158.85.108.83\nConnecting to cocl.us (cocl.us)|169.48.113.194|:443... connected.\nHTTP request sent, awaiting response... 301 Moved Permanently\nLocation: https://ibm.box.com/shared/static/9afzr83pps4pwf2smjjcf1y5mvgb18rr.csv [following]\n--2020-05-13 02:03:59--  https://ibm.box.com/shared/static/9afzr83pps4pwf2smjjcf1y5mvgb18rr.csv\nResolving ibm.box.com (ibm.box.com)... 107.152.26.197\nConnecting to ibm.box.com (ibm.box.com)|107.152.26.197|:443... connected.\nHTTP request sent, awaiting response... 301 Moved Permanently\nLocation: /public/static/9afzr83pps4pwf2smjjcf1y5mvgb18rr.csv [following]\n--2020-05-13 02:03:59--  https://ibm.box.com/public/static/9afzr83pps4pwf2smjjcf1y5mvgb18rr.csv\nReusing existing connection to ibm.box.com:443.\nHTTP request sent, awaiting response... 301 Moved Permanently\nLocation: https://ibm.ent.box.com/public/static/9afzr83pps4pwf2smjjcf1y5mvgb18rr.csv [following]\n--2020-05-13 02:04:00--  https://ibm.ent.box.com/public/static/9afzr83pps4pwf2smjjcf1y5mvgb18rr.csv\nResolving ibm.ent.box.com (ibm.ent.box.com)... 107.152.25.211\nConnecting to ibm.ent.box.com (ibm.ent.box.com)|107.152.25.211|:443... connected.\nHTTP request sent, awaiting response... 302 Found\nLocation: https://public.boxcloud.com/d/1/b1!bc3pKxpba6XldqM-m8mf8eGVcgKUmnjQUMairEMoDYOIUxKE9OCIeIIQVWxFlRyGfoXUSgPwk3TYqAMPd_Udhsn0a_-D0wkeg2FHhhfpJq02crLfxPS7U8i3XNrmP-URvzwWnhmwOVViTY2GfT2MS1MIoqwjtBtADu-P6gmge6WV8voHBENR_8COmOxEuaN_JZzKOIKopnXag8okUrw5rsgo6-9kgMVxgjox4XLa28LDmR6BBKwsXq8e74XoZ4F4Q_A7QU3LMWOOt809yksF4-EQ_vSifuCmLZ0zTCS6jLSt8Ie0JoojtlnrIul2_ntG7ZK8cUcR0elGU6GZzwHHFySFU6X0auiyB5wu-hSWV4L76A3jsEfO3lqhFof7B9EyuMKoUrrvXHkWcYIXmGVy3Kgu6mqQT-Mh34NMeFNfV5jttPTWPqkjG0M3PJemv7AV26oBHJveuGFQiF_l9O3-OfBgDErRNKbr2EjAOCULDqyD77M6TPsiJNS-KkN_dhsCtQYkIazwqAZ6WGcIkdxFdEiMwMmEeq-79A7idR5W2XqPrYhFa9fT2v-VczCzv2mLfyf5GNrGrubn8ggM8Dlr3BmGnvGA_cTQXz5SCQSvAbccQHK94rAaGOqiwoBYRSi4H_lB9QmSIY02OzoO8-Xy8E9n55EyVtHkfg5wDttkpNbX9Ddl-UA6ejO5CB63Tqx2iRodGsTleXMu0baIBj_sQwgujZoCmA0Eq_4G4kM8sMrvKryoLEMF3NyuZfio_PMiDgSPPRnirHrZFfcbMxBeLsd-3D02DM40H6hu-UuVnJTX-9DJ6yjlOi9lESArH-a_jAeNNYijHUPbBvY5zw2L5Ixy2LdeNIayrYoXfpLh_BzfBr74hwWUj8E1vcg76Q9smYrs1WDVfGT4IOk2jvMU0gXxxVmLc7uwgNk38IZK1JqTu_dZYbzuGZ0BXnB3mOxJqf0tqpsCsf78xpd9-RoMCfY3aWkXlBgfpdIgwx70Mu96jZidX4hjFPmHy5wn4WATvuEVgI6HuluN6m__NWI5bIDyxCTa3gECbLtDWNlH_Jt3DkCrZyZpYfVF4_ew3yIOJ_hVEFmpF0Szu7eTKtFXxitTyA9FNtnPrR3gbyUkituc-k_gsFxr30t4VTgX3YzeLHj6XtQUb9m_Kbn7tLTs7l3Lb2iM-Zmuxrzc0UWHxpShw1-PkyE_kl7afnYgBOsd0vQzVOjKIoMdzwqrgn5YhCnXDjJfScs6stMw6xlP6HpwAyz262ANg5pTALjIhlobUWFzXX9Smcsj5aI_ScQs-Jb45_GfnRBIQU69HlTk-gx-BdAsNGF2NPmhP_2QOeO30lacPYVRshwVlBo4W2kg7pApUBHIFHPwLxlji4Nrp0g2X9nzGLSGU8DCL0t46apaLX9zXvebRD15WmKnJsGNc_IcoElJbtOzmVd-Xe3sZXvA/download [following]\n--2020-05-13 02:04:00--  https://public.boxcloud.com/d/1/b1!bc3pKxpba6XldqM-m8mf8eGVcgKUmnjQUMairEMoDYOIUxKE9OCIeIIQVWxFlRyGfoXUSgPwk3TYqAMPd_Udhsn0a_-D0wkeg2FHhhfpJq02crLfxPS7U8i3XNrmP-URvzwWnhmwOVViTY2GfT2MS1MIoqwjtBtADu-P6gmge6WV8voHBENR_8COmOxEuaN_JZzKOIKopnXag8okUrw5rsgo6-9kgMVxgjox4XLa28LDmR6BBKwsXq8e74XoZ4F4Q_A7QU3LMWOOt809yksF4-EQ_vSifuCmLZ0zTCS6jLSt8Ie0JoojtlnrIul2_ntG7ZK8cUcR0elGU6GZzwHHFySFU6X0auiyB5wu-hSWV4L76A3jsEfO3lqhFof7B9EyuMKoUrrvXHkWcYIXmGVy3Kgu6mqQT-Mh34NMeFNfV5jttPTWPqkjG0M3PJemv7AV26oBHJveuGFQiF_l9O3-OfBgDErRNKbr2EjAOCULDqyD77M6TPsiJNS-KkN_dhsCtQYkIazwqAZ6WGcIkdxFdEiMwMmEeq-79A7idR5W2XqPrYhFa9fT2v-VczCzv2mLfyf5GNrGrubn8ggM8Dlr3BmGnvGA_cTQXz5SCQSvAbccQHK94rAaGOqiwoBYRSi4H_lB9QmSIY02OzoO8-Xy8E9n55EyVtHkfg5wDttkpNbX9Ddl-UA6ejO5CB63Tqx2iRodGsTleXMu0baIBj_sQwgujZoCmA0Eq_4G4kM8sMrvKryoLEMF3NyuZfio_PMiDgSPPRnirHrZFfcbMxBeLsd-3D02DM40H6hu-UuVnJTX-9DJ6yjlOi9lESArH-a_jAeNNYijHUPbBvY5zw2L5Ixy2LdeNIayrYoXfpLh_BzfBr74hwWUj8E1vcg76Q9smYrs1WDVfGT4IOk2jvMU0gXxxVmLc7uwgNk38IZK1JqTu_dZYbzuGZ0BXnB3mOxJqf0tqpsCsf78xpd9-RoMCfY3aWkXlBgfpdIgwx70Mu96jZidX4hjFPmHy5wn4WATvuEVgI6HuluN6m__NWI5bIDyxCTa3gECbLtDWNlH_Jt3DkCrZyZpYfVF4_ew3yIOJ_hVEFmpF0Szu7eTKtFXxitTyA9FNtnPrR3gbyUkituc-k_gsFxr30t4VTgX3YzeLHj6XtQUb9m_Kbn7tLTs7l3Lb2iM-Zmuxrzc0UWHxpShw1-PkyE_kl7afnYgBOsd0vQzVOjKIoMdzwqrgn5YhCnXDjJfScs6stMw6xlP6HpwAyz262ANg5pTALjIhlobUWFzXX9Smcsj5aI_ScQs-Jb45_GfnRBIQU69HlTk-gx-BdAsNGF2NPmhP_2QOeO30lacPYVRshwVlBo4W2kg7pApUBHIFHPwLxlji4Nrp0g2X9nzGLSGU8DCL0t46apaLX9zXvebRD15WmKnJsGNc_IcoElJbtOzmVd-Xe3sZXvA/download\nResolving public.boxcloud.com (public.boxcloud.com)... 107.152.25.200\nConnecting to public.boxcloud.com (public.boxcloud.com)|107.152.25.200|:443... connected.\nHTTP request sent, awaiting response... 200 OK\nLength: 2891 (2.8K) [text/csv]\nSaving to: \u2018Geospatial_Coordinates.csv\u2019\n\n100%[======================================>] 2,891       --.-K/s   in 0s      \n\n2020-05-13 02:04:01 (246 MB/s) - \u2018Geospatial_Coordinates.csv\u2019 saved [2891/2891]\n\n"
                }
            ],
            "source": "!wget -O Geospatial_Coordinates.csv https://cocl.us/Geospatial_data"
        },
        {
            "cell_type": "code",
            "execution_count": 10,
            "metadata": {},
            "outputs": [],
            "source": "df_geo = pd.read_csv('Geospatial_Coordinates.csv')"
        },
        {
            "cell_type": "code",
            "execution_count": 11,
            "metadata": {},
            "outputs": [
                {
                    "data": {
                        "text/html": "<div>\n<style scoped>\n    .dataframe tbody tr th:only-of-type {\n        vertical-align: middle;\n    }\n\n    .dataframe tbody tr th {\n        vertical-align: top;\n    }\n\n    .dataframe thead th {\n        text-align: right;\n    }\n</style>\n<table border=\"1\" class=\"dataframe\">\n  <thead>\n    <tr style=\"text-align: right;\">\n      <th></th>\n      <th>Postal Code</th>\n      <th>Latitude</th>\n      <th>Longitude</th>\n    </tr>\n  </thead>\n  <tbody>\n    <tr>\n      <th>0</th>\n      <td>M1B</td>\n      <td>43.806686</td>\n      <td>-79.194353</td>\n    </tr>\n    <tr>\n      <th>1</th>\n      <td>M1C</td>\n      <td>43.784535</td>\n      <td>-79.160497</td>\n    </tr>\n    <tr>\n      <th>2</th>\n      <td>M1E</td>\n      <td>43.763573</td>\n      <td>-79.188711</td>\n    </tr>\n    <tr>\n      <th>3</th>\n      <td>M1G</td>\n      <td>43.770992</td>\n      <td>-79.216917</td>\n    </tr>\n    <tr>\n      <th>4</th>\n      <td>M1H</td>\n      <td>43.773136</td>\n      <td>-79.239476</td>\n    </tr>\n  </tbody>\n</table>\n</div>",
                        "text/plain": "  Postal Code   Latitude  Longitude\n0         M1B  43.806686 -79.194353\n1         M1C  43.784535 -79.160497\n2         M1E  43.763573 -79.188711\n3         M1G  43.770992 -79.216917\n4         M1H  43.773136 -79.239476"
                    },
                    "execution_count": 11,
                    "metadata": {},
                    "output_type": "execute_result"
                }
            ],
            "source": "df_geo.head()"
        },
        {
            "cell_type": "code",
            "execution_count": 12,
            "metadata": {},
            "outputs": [
                {
                    "data": {
                        "text/html": "<div>\n<style scoped>\n    .dataframe tbody tr th:only-of-type {\n        vertical-align: middle;\n    }\n\n    .dataframe tbody tr th {\n        vertical-align: top;\n    }\n\n    .dataframe thead th {\n        text-align: right;\n    }\n</style>\n<table border=\"1\" class=\"dataframe\">\n  <thead>\n    <tr style=\"text-align: right;\">\n      <th></th>\n      <th>Postal Code</th>\n      <th>Borough</th>\n      <th>Neighborhood</th>\n      <th>Latitude</th>\n      <th>Longitude</th>\n    </tr>\n  </thead>\n  <tbody>\n    <tr>\n      <th>0</th>\n      <td>M3A</td>\n      <td>North York</td>\n      <td>Parkwoods</td>\n      <td>43.753259</td>\n      <td>-79.329656</td>\n    </tr>\n    <tr>\n      <th>1</th>\n      <td>M4A</td>\n      <td>North York</td>\n      <td>Victoria Village</td>\n      <td>43.725882</td>\n      <td>-79.315572</td>\n    </tr>\n    <tr>\n      <th>2</th>\n      <td>M5A</td>\n      <td>Downtown Toronto</td>\n      <td>Regent Park, Harbourfront</td>\n      <td>43.654260</td>\n      <td>-79.360636</td>\n    </tr>\n    <tr>\n      <th>3</th>\n      <td>M6A</td>\n      <td>North York</td>\n      <td>Lawrence Manor, Lawrence Heights</td>\n      <td>43.718518</td>\n      <td>-79.464763</td>\n    </tr>\n    <tr>\n      <th>4</th>\n      <td>M7A</td>\n      <td>Downtown Toronto</td>\n      <td>Queen's Park, Ontario Provincial Government</td>\n      <td>43.662301</td>\n      <td>-79.389494</td>\n    </tr>\n  </tbody>\n</table>\n</div>",
                        "text/plain": "  Postal Code           Borough                                 Neighborhood  \\\n0         M3A        North York                                    Parkwoods   \n1         M4A        North York                             Victoria Village   \n2         M5A  Downtown Toronto                    Regent Park, Harbourfront   \n3         M6A        North York             Lawrence Manor, Lawrence Heights   \n4         M7A  Downtown Toronto  Queen's Park, Ontario Provincial Government   \n\n    Latitude  Longitude  \n0  43.753259 -79.329656  \n1  43.725882 -79.315572  \n2  43.654260 -79.360636  \n3  43.718518 -79.464763  \n4  43.662301 -79.389494  "
                    },
                    "execution_count": 12,
                    "metadata": {},
                    "output_type": "execute_result"
                }
            ],
            "source": "#Merge Postal Code and latitude longitude\ndf_toronto_geo = df_toronto.join(df_geo.set_index('Postal Code'), on = 'Postal Code')\ndf_toronto_geo.head()"
        },
        {
            "cell_type": "code",
            "execution_count": null,
            "metadata": {},
            "outputs": [],
            "source": ""
        }
    ],
    "metadata": {
        "kernelspec": {
            "display_name": "Python 3.6",
            "language": "python",
            "name": "python3"
        },
        "language_info": {
            "codemirror_mode": {
                "name": "ipython",
                "version": 3
            },
            "file_extension": ".py",
            "mimetype": "text/x-python",
            "name": "python",
            "nbconvert_exporter": "python",
            "pygments_lexer": "ipython3",
            "version": "3.6.9"
        }
    },
    "nbformat": 4,
    "nbformat_minor": 1
}