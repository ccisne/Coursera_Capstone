{
    "cells": [
        {
            "cell_type": "markdown",
            "metadata": {
                "collapsed": true
            },
            "source": "# Economic Recovery Strategy in Panama"
        },
        {
            "cell_type": "markdown",
            "metadata": {},
            "source": "#### by Christian Cisne"
        },
        {
            "cell_type": "markdown",
            "metadata": {},
            "source": "## Introduction Section"
        },
        {
            "cell_type": "markdown",
            "metadata": {},
            "source": "With the world health crisis currently being experienced as a result of the pandemic caused by COVID-19, the Panama government decreed a general quarantine from March, which lasted until May 13, the date that the reactivation began, with the opening of venues that includes retail sales in the form of electronic commerce that are online sales with a home delivery, as well as mechanical workshops and spare parts in general, technical services: plumbers, electricians, maintenance of systems, air conditioners, elevators and pool cleaning; in addition to artisanal fishing and industrial aquaculture.\n\nSome questions arise from this strategy:\n\n- Which categories of businesses have the largest number of localities and which are the smallest?\n- Where they are located?\n- Is there currently any evidence of a correlation between COVID-19 infections and locations?\n\nThese are the questions that we will try to answer.\n\nI am not aware of any previous study on commercial categories by corregimiento, at least not public.\n\nThis information could be useful for government authorities in their economic recovery strategy, as well as the health, commerce and so on."
        },
        {
            "cell_type": "markdown",
            "metadata": {},
            "source": "## Data Section"
        },
        {
            "cell_type": "markdown",
            "metadata": {},
            "source": "We will focus our analysis only on the panama district.\nFor this analysis, we have built a dataset with information on the places that make up the district of Panama. This dataset includes the columns: Province, Postal Code, District, Corregimiento, Latitude, Longitude.\nIn addition, we added COVID-19 infections (report as of 05/18/2020) and deaths, by corregimiento, to the dataset.\nWith this dataset we will:\n\n- Determine the most important categories venues based on their frequency.\n- Carry out a mapping of the different categories venues of Panama district.\n- Group the corregimientos based on similarity by categories venues.\n- Make a correlation analysis of the most important categories venues, including the variable COVID-19 infections.\n\nSource:\n\nhttps://www.prensa.com/impresa/panorama/cuarentena-indefinida-sigue-vigente-en-panama/\nhttps://sertv.gob.pa/hoja-de-ruta-de-la-apertura-de-los-comercios-en-yo-me-informo-pma/\nhttps://en.wikipedia.org/wiki/Postal_codes_in_Panama\nhttps://es.wikipedia.org/wiki/Anexo:Corregimientos_de_Panam%C3%A1\nhttps://harvard-cga.maps.arcgis.com/apps/opsdashboard/index.html#/9be5f282393848a6b1f51678a08d4d32"
        },
        {
            "cell_type": "code",
            "execution_count": null,
            "metadata": {},
            "outputs": [],
            "source": ""
        }
    ],
    "metadata": {
        "kernelspec": {
            "display_name": "Python 3.6",
            "language": "python",
            "name": "python3"
        },
        "language_info": {
            "codemirror_mode": {
                "name": "ipython",
                "version": 3
            },
            "file_extension": ".py",
            "mimetype": "text/x-python",
            "name": "python",
            "nbconvert_exporter": "python",
            "pygments_lexer": "ipython3",
            "version": "3.6.9"
        }
    },
    "nbformat": 4,
    "nbformat_minor": 1
}